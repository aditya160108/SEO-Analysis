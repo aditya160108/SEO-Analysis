{
  "cells": [
    {
      "cell_type": "code",
      "execution_count": null,
      "metadata": {
        "id": "hoThgF01Kfw5"
      },
      "outputs": [],
      "source": [
        "from google.colab import files\n",
        "files.upload()"
      ]
    },
    {
      "cell_type": "code",
      "execution_count": null,
      "metadata": {
        "id": "gVo7Te_VLFxG"
      },
      "outputs": [],
      "source": [
        "%%capture\n",
        "!pip install git+https://github.com/joshcarty/google-searchconsole\n",
        "import pandas as pd\n",
        "import numpy as np\n",
        "import matplotlib.pyplot as plt\n",
        "from google.colab import data_table\n",
        "!pip install umap-learn\n",
        "data_table.enable_dataframe_formatter()"
      ]
    },
    {
      "cell_type": "code",
      "execution_count": null,
      "metadata": {
        "id": "qF9pqaYWLRj9"
      },
      "outputs": [],
      "source": [
        "import searchconsole\n",
        "account = searchconsole.authenticate(client_config='client_secret_.json',serialize='credentials.json', flow='console')"
      ]
    },
    {
      "cell_type": "code",
      "execution_count": null,
      "metadata": {
        "id": "sZUr3o84LjVl"
      },
      "outputs": [],
      "source": [
        "property_name = input('Insert the name of your website as listed in GSC: ')\n",
        "webproperty=account[str(property_name)]"
      ]
    },
    {
      "cell_type": "code",
      "execution_count": null,
      "metadata": {
        "id": "xZU1c1g9Qhdq"
      },
      "outputs": [],
      "source": [
        "def extract_gsc_data(webproperty, start, stop, *args):\n",
        " if webproperty is not None:\n",
        "   print(f'Extracting data for {webproperty}')\n",
        "   gsc_data = webproperty.query.range(start, stop).dimension(*args).get()\n",
        "   return gsc_data\n",
        " else:\n",
        "   print('Webproperty not found, please select the correct one')\n",
        "   return None"
      ]
    },
    {
      "cell_type": "code",
      "execution_count": null,
      "metadata": {
        "id": "B_bJ6n1BRErh"
      },
      "outputs": [],
      "source": [
        "from datetime import datetime\n",
        "\n",
        "ex = extract_gsc_data(webproperty, '2023-12-01', str(datetime.now().date()), 'query', 'page', 'date')"
      ]
    },
    {
      "cell_type": "code",
      "execution_count": null,
      "metadata": {
        "id": "7OLRyTXURNqS"
      },
      "outputs": [],
      "source": [
        "df = pd.DataFrame(data=ex)\n",
        "df.head()"
      ]
    },
    {
      "cell_type": "code",
      "execution_count": null,
      "metadata": {
        "id": "ulMGqqCGFXHL"
      },
      "outputs": [],
      "source": [
        "from google.colab import files\n",
        "today_date = datetime.today().strftime('%Y-%m-%d')\n",
        "filename = f'initialdataset_{today_date}.csv'\n",
        "df.to_csv(filename, index=False)\n",
        "files.download(filename)"
      ]
    },
    {
      "cell_type": "code",
      "execution_count": null,
      "metadata": {
        "id": "ckSPWPeCSshK"
      },
      "outputs": [],
      "source": [
        "domain_name = str(input('Insert brand terms separated by a comma: ')).replace(',', '|')\n",
        "import re\n",
        "domain_name = re.sub(r\"\\s+\", \"\", domain_name)\n",
        "print('Remove all spaces using RegEx:\\n')\n",
        "df['Brand/Non-branded'] = np.where(\n",
        "   df['query'].str.contains(domain_name), 'Brand', 'Non-branded'\n",
        ")"
      ]
    },
    {
      "cell_type": "code",
      "execution_count": null,
      "metadata": {
        "colab": {
          "base_uri": "https://localhost:8080/",
          "height": 162
        },
        "id": "OQp7NUzvTfWq",
        "outputId": "c48b1699-c517-4b1c-f4b6-2d0bd6a513b8"
      },
      "outputs": [],
      "source": [
        "brand_count_df = df['Brand/Non-branded'].value_counts().rename_axis('category').to_frame('counts')\n",
        "brand_count_df['Percentage'] = brand_count_df['counts']/sum(brand_count_df['counts'])\n",
        "pd.options.display.float_format = '{:.2%}'.format\n",
        "brand_count_df"
      ]
    },
    {
      "cell_type": "code",
      "execution_count": null,
      "metadata": {
        "id": "N-Pi9duPTyMo"
      },
      "outputs": [],
      "source": [
        "df.fillna(0, inplace = True)"
      ]
    },
    {
      "cell_type": "code",
      "execution_count": null,
      "metadata": {
        "id": "sZ3TBpbxUCNv"
      },
      "outputs": [],
      "source": [
        "df['position'] = df['position'].round(0).astype('int64')"
      ]
    },
    {
      "cell_type": "code",
      "execution_count": null,
      "metadata": {
        "id": "n3m16irrUEEo"
      },
      "outputs": [],
      "source": [
        "df['date'] = pd.to_datetime(df['date'])\n",
        "df['month'] = df['date'].dt.month\n",
        "df['year'] = df['date'].dt.year"
      ]
    },
    {
      "cell_type": "code",
      "execution_count": null,
      "metadata": {
        "colab": {
          "base_uri": "https://localhost:8080/",
          "height": 425
        },
        "id": "xbKY-T8pUPi4",
        "outputId": "10efd01c-8650-4a39-e82c-7608190e6158"
      },
      "outputs": [
        {
          "data": {
            "text/html": [
              "\n",
              "  <div id=\"df-0733ada1-88cf-416f-9085-631c0cc87ade\" class=\"colab-df-container\">\n",
              "    <div>\n",
              "<style scoped>\n",
              "    .dataframe tbody tr th:only-of-type {\n",
              "        vertical-align: middle;\n",
              "    }\n",
              "\n",
              "    .dataframe tbody tr th {\n",
              "        vertical-align: top;\n",
              "    }\n",
              "\n",
              "    .dataframe thead tr th {\n",
              "        text-align: left;\n",
              "    }\n",
              "\n",
              "    .dataframe thead tr:last-of-type th {\n",
              "        text-align: right;\n",
              "    }\n",
              "</style>\n",
              "<table border=\"1\" class=\"dataframe\">\n",
              "  <thead>\n",
              "    <tr>\n",
              "      <th></th>\n",
              "      <th>count</th>\n",
              "    </tr>\n",
              "    <tr>\n",
              "      <th></th>\n",
              "      <th>query</th>\n",
              "    </tr>\n",
              "    <tr>\n",
              "      <th>position</th>\n",
              "      <th></th>\n",
              "    </tr>\n",
              "  </thead>\n",
              "  <tbody>\n",
              "    <tr>\n",
              "      <th>1</th>\n",
              "      <td>44516</td>\n",
              "    </tr>\n",
              "    <tr>\n",
              "      <th>2</th>\n",
              "      <td>10096</td>\n",
              "    </tr>\n",
              "    <tr>\n",
              "      <th>3</th>\n",
              "      <td>12741</td>\n",
              "    </tr>\n",
              "    <tr>\n",
              "      <th>4</th>\n",
              "      <td>11878</td>\n",
              "    </tr>\n",
              "    <tr>\n",
              "      <th>5</th>\n",
              "      <td>9105</td>\n",
              "    </tr>\n",
              "    <tr>\n",
              "      <th>6</th>\n",
              "      <td>8685</td>\n",
              "    </tr>\n",
              "    <tr>\n",
              "      <th>7</th>\n",
              "      <td>6612</td>\n",
              "    </tr>\n",
              "    <tr>\n",
              "      <th>8</th>\n",
              "      <td>7472</td>\n",
              "    </tr>\n",
              "    <tr>\n",
              "      <th>9</th>\n",
              "      <td>6434</td>\n",
              "    </tr>\n",
              "    <tr>\n",
              "      <th>10</th>\n",
              "      <td>7843</td>\n",
              "    </tr>\n",
              "  </tbody>\n",
              "</table>\n",
              "</div>\n",
              "    <div class=\"colab-df-buttons\">\n",
              "\n",
              "  <div class=\"colab-df-container\">\n",
              "    <button class=\"colab-df-convert\" onclick=\"convertToInteractive('df-0733ada1-88cf-416f-9085-631c0cc87ade')\"\n",
              "            title=\"Convert this dataframe to an interactive table.\"\n",
              "            style=\"display:none;\">\n",
              "\n",
              "  <svg xmlns=\"http://www.w3.org/2000/svg\" height=\"24px\" viewBox=\"0 -960 960 960\">\n",
              "    <path d=\"M120-120v-720h720v720H120Zm60-500h600v-160H180v160Zm220 220h160v-160H400v160Zm0 220h160v-160H400v160ZM180-400h160v-160H180v160Zm440 0h160v-160H620v160ZM180-180h160v-160H180v160Zm440 0h160v-160H620v160Z\"/>\n",
              "  </svg>\n",
              "    </button>\n",
              "\n",
              "  <style>\n",
              "    .colab-df-container {\n",
              "      display:flex;\n",
              "      gap: 12px;\n",
              "    }\n",
              "\n",
              "    .colab-df-convert {\n",
              "      background-color: #E8F0FE;\n",
              "      border: none;\n",
              "      border-radius: 50%;\n",
              "      cursor: pointer;\n",
              "      display: none;\n",
              "      fill: #1967D2;\n",
              "      height: 32px;\n",
              "      padding: 0 0 0 0;\n",
              "      width: 32px;\n",
              "    }\n",
              "\n",
              "    .colab-df-convert:hover {\n",
              "      background-color: #E2EBFA;\n",
              "      box-shadow: 0px 1px 2px rgba(60, 64, 67, 0.3), 0px 1px 3px 1px rgba(60, 64, 67, 0.15);\n",
              "      fill: #174EA6;\n",
              "    }\n",
              "\n",
              "    .colab-df-buttons div {\n",
              "      margin-bottom: 4px;\n",
              "    }\n",
              "\n",
              "    [theme=dark] .colab-df-convert {\n",
              "      background-color: #3B4455;\n",
              "      fill: #D2E3FC;\n",
              "    }\n",
              "\n",
              "    [theme=dark] .colab-df-convert:hover {\n",
              "      background-color: #434B5C;\n",
              "      box-shadow: 0px 1px 3px 1px rgba(0, 0, 0, 0.15);\n",
              "      filter: drop-shadow(0px 1px 2px rgba(0, 0, 0, 0.3));\n",
              "      fill: #FFFFFF;\n",
              "    }\n",
              "  </style>\n",
              "\n",
              "    <script>\n",
              "      const buttonEl =\n",
              "        document.querySelector('#df-0733ada1-88cf-416f-9085-631c0cc87ade button.colab-df-convert');\n",
              "      buttonEl.style.display =\n",
              "        google.colab.kernel.accessAllowed ? 'block' : 'none';\n",
              "\n",
              "      async function convertToInteractive(key) {\n",
              "        const element = document.querySelector('#df-0733ada1-88cf-416f-9085-631c0cc87ade');\n",
              "        const dataTable =\n",
              "          await google.colab.kernel.invokeFunction('convertToInteractive',\n",
              "                                                    [key], {});\n",
              "        if (!dataTable) return;\n",
              "\n",
              "        const docLinkHtml = 'Like what you see? Visit the ' +\n",
              "          '<a target=\"_blank\" href=https://colab.research.google.com/notebooks/data_table.ipynb>data table notebook</a>'\n",
              "          + ' to learn more about interactive tables.';\n",
              "        element.innerHTML = '';\n",
              "        dataTable['output_type'] = 'display_data';\n",
              "        await google.colab.output.renderOutput(dataTable, element);\n",
              "        const docLink = document.createElement('div');\n",
              "        docLink.innerHTML = docLinkHtml;\n",
              "        element.appendChild(docLink);\n",
              "      }\n",
              "    </script>\n",
              "  </div>\n",
              "\n",
              "\n",
              "<div id=\"df-67a25287-a48e-4a16-9d7f-118e3d2229eb\">\n",
              "  <button class=\"colab-df-quickchart\" onclick=\"quickchart('df-67a25287-a48e-4a16-9d7f-118e3d2229eb')\"\n",
              "            title=\"Suggest charts\"\n",
              "            style=\"display:none;\">\n",
              "\n",
              "<svg xmlns=\"http://www.w3.org/2000/svg\" height=\"24px\"viewBox=\"0 0 24 24\"\n",
              "     width=\"24px\">\n",
              "    <g>\n",
              "        <path d=\"M19 3H5c-1.1 0-2 .9-2 2v14c0 1.1.9 2 2 2h14c1.1 0 2-.9 2-2V5c0-1.1-.9-2-2-2zM9 17H7v-7h2v7zm4 0h-2V7h2v10zm4 0h-2v-4h2v4z\"/>\n",
              "    </g>\n",
              "</svg>\n",
              "  </button>\n",
              "\n",
              "<style>\n",
              "  .colab-df-quickchart {\n",
              "      --bg-color: #E8F0FE;\n",
              "      --fill-color: #1967D2;\n",
              "      --hover-bg-color: #E2EBFA;\n",
              "      --hover-fill-color: #174EA6;\n",
              "      --disabled-fill-color: #AAA;\n",
              "      --disabled-bg-color: #DDD;\n",
              "  }\n",
              "\n",
              "  [theme=dark] .colab-df-quickchart {\n",
              "      --bg-color: #3B4455;\n",
              "      --fill-color: #D2E3FC;\n",
              "      --hover-bg-color: #434B5C;\n",
              "      --hover-fill-color: #FFFFFF;\n",
              "      --disabled-bg-color: #3B4455;\n",
              "      --disabled-fill-color: #666;\n",
              "  }\n",
              "\n",
              "  .colab-df-quickchart {\n",
              "    background-color: var(--bg-color);\n",
              "    border: none;\n",
              "    border-radius: 50%;\n",
              "    cursor: pointer;\n",
              "    display: none;\n",
              "    fill: var(--fill-color);\n",
              "    height: 32px;\n",
              "    padding: 0;\n",
              "    width: 32px;\n",
              "  }\n",
              "\n",
              "  .colab-df-quickchart:hover {\n",
              "    background-color: var(--hover-bg-color);\n",
              "    box-shadow: 0 1px 2px rgba(60, 64, 67, 0.3), 0 1px 3px 1px rgba(60, 64, 67, 0.15);\n",
              "    fill: var(--button-hover-fill-color);\n",
              "  }\n",
              "\n",
              "  .colab-df-quickchart-complete:disabled,\n",
              "  .colab-df-quickchart-complete:disabled:hover {\n",
              "    background-color: var(--disabled-bg-color);\n",
              "    fill: var(--disabled-fill-color);\n",
              "    box-shadow: none;\n",
              "  }\n",
              "\n",
              "  .colab-df-spinner {\n",
              "    border: 2px solid var(--fill-color);\n",
              "    border-color: transparent;\n",
              "    border-bottom-color: var(--fill-color);\n",
              "    animation:\n",
              "      spin 1s steps(1) infinite;\n",
              "  }\n",
              "\n",
              "  @keyframes spin {\n",
              "    0% {\n",
              "      border-color: transparent;\n",
              "      border-bottom-color: var(--fill-color);\n",
              "      border-left-color: var(--fill-color);\n",
              "    }\n",
              "    20% {\n",
              "      border-color: transparent;\n",
              "      border-left-color: var(--fill-color);\n",
              "      border-top-color: var(--fill-color);\n",
              "    }\n",
              "    30% {\n",
              "      border-color: transparent;\n",
              "      border-left-color: var(--fill-color);\n",
              "      border-top-color: var(--fill-color);\n",
              "      border-right-color: var(--fill-color);\n",
              "    }\n",
              "    40% {\n",
              "      border-color: transparent;\n",
              "      border-right-color: var(--fill-color);\n",
              "      border-top-color: var(--fill-color);\n",
              "    }\n",
              "    60% {\n",
              "      border-color: transparent;\n",
              "      border-right-color: var(--fill-color);\n",
              "    }\n",
              "    80% {\n",
              "      border-color: transparent;\n",
              "      border-right-color: var(--fill-color);\n",
              "      border-bottom-color: var(--fill-color);\n",
              "    }\n",
              "    90% {\n",
              "      border-color: transparent;\n",
              "      border-bottom-color: var(--fill-color);\n",
              "    }\n",
              "  }\n",
              "</style>\n",
              "\n",
              "  <script>\n",
              "    async function quickchart(key) {\n",
              "      const quickchartButtonEl =\n",
              "        document.querySelector('#' + key + ' button');\n",
              "      quickchartButtonEl.disabled = true;  // To prevent multiple clicks.\n",
              "      quickchartButtonEl.classList.add('colab-df-spinner');\n",
              "      try {\n",
              "        const charts = await google.colab.kernel.invokeFunction(\n",
              "            'suggestCharts', [key], {});\n",
              "      } catch (error) {\n",
              "        console.error('Error during call to suggestCharts:', error);\n",
              "      }\n",
              "      quickchartButtonEl.classList.remove('colab-df-spinner');\n",
              "      quickchartButtonEl.classList.add('colab-df-quickchart-complete');\n",
              "    }\n",
              "    (() => {\n",
              "      let quickchartButtonEl =\n",
              "        document.querySelector('#df-67a25287-a48e-4a16-9d7f-118e3d2229eb button');\n",
              "      quickchartButtonEl.style.display =\n",
              "        google.colab.kernel.accessAllowed ? 'block' : 'none';\n",
              "    })();\n",
              "  </script>\n",
              "</div>\n",
              "\n",
              "    </div>\n",
              "  </div>\n"
            ],
            "text/plain": [
              "          count\n",
              "          query\n",
              "position       \n",
              "1         44516\n",
              "2         10096\n",
              "3         12741\n",
              "4         11878\n",
              "5          9105\n",
              "6          8685\n",
              "7          6612\n",
              "8          7472\n",
              "9          6434\n",
              "10         7843"
            ]
          },
          "execution_count": 18,
          "metadata": {},
          "output_type": "execute_result"
        }
      ],
      "source": [
        "ranking_queries = df.pivot_table(index=['position'], values=['query'], aggfunc=['count'])\n",
        "ranking_queries.sort_values(by=['position']).head(10)"
      ]
    },
    {
      "cell_type": "code",
      "execution_count": null,
      "metadata": {
        "colab": {
          "base_uri": "https://localhost:8080/",
          "height": 17
        },
        "id": "nFN_9IZAYN18",
        "outputId": "d0b19331-5ba6-4ffe-d8d0-ca72d75c53df"
      },
      "outputs": [],
      "source": [
        "filename1 = f'ctr_avgposition_{today_date}.xlsx'\n",
        "query_analysis.to_excel(filename1)\n",
        "files.download(filename1)"
      ]
    },
    {
      "cell_type": "code",
      "execution_count": null,
      "metadata": {
        "id": "deiCm8o8UvFR"
      },
      "outputs": [],
      "source": [
        "clicks_sum = df.groupby('date')['clicks'].sum()"
      ]
    },
    {
      "cell_type": "code",
      "execution_count": null,
      "metadata": {
        "colab": {
          "base_uri": "https://localhost:8080/",
          "height": 17
        },
        "id": "tzsatEMMW4rx",
        "outputId": "54886d16-2a52-4fd0-e22c-fe5ddac4cd74"
      },
      "outputs": [],
      "source": [
        "filename2 = f'clicks_month_{today_date}.xlsx'\n",
        "clicks_sum.to_excel(filename2,index=False)\n",
        "files.download(filename2)"
      ]
    },
    {
      "cell_type": "code",
      "execution_count": null,
      "metadata": {
        "colab": {
          "base_uri": "https://localhost:8080/",
          "height": 1000
        },
        "id": "fYhdp32GVGAw",
        "outputId": "8cf36d66-35cb-4bf1-aa98-3c7db0197340"
      },
      "outputs": [],
      "source": [
        "import seaborn as sns\n",
        "sns.set_theme()\n",
        "\n",
        "df_new = df.loc[(df['position'] <= 10) & (df['year'] != 2024),:]\n",
        "\n",
        "df_heat = df_new.pivot_table(index = \"position\", columns = \"month\", values = \"query\", aggfunc='count')\n",
        "\n",
        "f, ax = plt.subplots(figsize=(20, 12))\n",
        "\n",
        "unique_months = sorted(df['date'].dt.strftime('%B').unique(), key=lambda x: datetime.strptime(x, '%B'))\n",
        "\n",
        "x_axis_labels = unique_months\n",
        "\n",
        "sns.heatmap(df_heat, annot=True, linewidths=.5, ax=ax, fmt='g', cmap = sns.cm.rocket_r, xticklabels=x_axis_labels)\n",
        "ax.set(xlabel = 'Month', ylabel='Position', title = 'How query count per position changes with time')\n",
        "plt.yticks(rotation=0)"
      ]
    },
    {
      "cell_type": "code",
      "execution_count": null,
      "metadata": {
        "colab": {
          "base_uri": "https://localhost:8080/",
          "height": 17
        },
        "id": "tHgF98o5dPuq",
        "outputId": "377112ff-e2ad-4a0f-d856-a86e8268d49d"
      },
      "outputs": [],
      "source": [
        "filename3 = f'heatmap_data_{today_date}.xlsx'\n",
        "df_heat.to_excel(filename3,index=False)\n",
        "files.download(filename3)"
      ]
    },
    {
      "cell_type": "code",
      "execution_count": null,
      "metadata": {
        "id": "lJfTyw98VN4M"
      },
      "outputs": [],
      "source": [
        "import nltk\n",
        "\n",
        "nltk.download('stopwords')\n",
        "from nltk.corpus import stopwords\n",
        "stoplist = stopwords.words('english')\n",
        "\n",
        "from sklearn.feature_extraction.text import CountVectorizer\n",
        "c_vec = CountVectorizer(stop_words=stoplist, ngram_range=(2,3))\n",
        "ngrams = c_vec.fit_transform(df['query'])\n",
        "count_values = ngrams.toarray().sum(axis=0)\n",
        "vocab = c_vec.vocabulary_\n",
        "df_ngram = pd.DataFrame(sorted([(count_values[i],k) for k,i in vocab.items()], reverse=True)\n",
        "           ).rename(columns={0: 'frequency', 1:'bigram/trigram'})\n",
        "\n",
        "df_ngram.head(20).style.background_gradient()"
      ]
    },
    {
      "cell_type": "code",
      "execution_count": null,
      "metadata": {
        "id": "6lzFthsIhNoc"
      },
      "outputs": [],
      "source": [
        "filename4 = f'ngram_data_{today_date}.xlsx'\n",
        "df_ngram.to_excel(filename4,index=False)\n",
        "files.download(filename4)"
      ]
    },
    {
      "cell_type": "code",
      "execution_count": null,
      "metadata": {
        "id": "frRqz2B1Z5Mu"
      },
      "outputs": [],
      "source": [
        "top_impressions = df[df['impressions'] >= df['impressions'].quantile(0.8)]\n",
        "(top_impressions[top_impressions['ctr'] <= top_impressions['ctr'].quantile(0.2)].sort_values('impressions', ascending = False))"
      ]
    },
    {
      "cell_type": "code",
      "execution_count": null,
      "metadata": {
        "id": "QmrCMyFja901"
      },
      "outputs": [],
      "source": [
        "filename5 = f'top_impressions_data{today_date}.xlsx'\n",
        "top_impressions.to_excel(filename5,index=False)\n",
        "files.download(filename5)"
      ]
    },
    {
      "cell_type": "code",
      "execution_count": null,
      "metadata": {
        "id": "4-n_rbURK3PO"
      },
      "outputs": [],
      "source": [
        "!pip install mlxtend\n",
        "\n",
        "from mlxtend.frequent_patterns import fpgrowth\n",
        "from mlxtend.preprocessing import TransactionEncoder\n",
        "from sklearn.preprocessing import LabelEncoder"
      ]
    },
    {
      "cell_type": "code",
      "execution_count": null,
      "metadata": {
        "id": "XYPYNcXI3CHJ"
      },
      "outputs": [],
      "source": [
        "df['date'] = pd.to_datetime(df['date'])\n"
      ]
    },
    {
      "cell_type": "code",
      "execution_count": null,
      "metadata": {
        "id": "O0Svk8z23EE3"
      },
      "outputs": [],
      "source": [
        "queries = df['query'].apply(lambda x: re.split(r'[“?^”<#(/\\]=\\-):[@÷\\'&\",’$.•⁄_+ ]', x))\n",
        "\n",
        "te = TransactionEncoder()\n",
        "te_ary = te.fit(queries).transform(queries)\n",
        "df_encoded = pd.DataFrame(te_ary, columns=te.columns_)\n",
        "\n",
        "frequent_itemsets = fpgrowth(df_encoded, min_support=0.01, use_colnames=True)\n",
        "\n",
        "print(frequent_itemsets)"
      ]
    },
    {
      "cell_type": "code",
      "execution_count": null,
      "metadata": {
        "id": "9bqaKJYK_Pm7"
      },
      "outputs": [],
      "source": [
        "from mlxtend.frequent_patterns import association_rules\n",
        "\n",
        "rules = association_rules(frequent_itemsets, metric=\"confidence\", min_threshold=0.1)\n",
        "\n",
        "#print(rules)\n",
        "filenamerules = f'associationrule{today_date}.xlsx'\n",
        "rules.to_excel(filenamerules, index=False)\n",
        "files.download(filenamerules)"
      ]
    }
  ],
  "metadata": {
    "colab": {
      "provenance": []
    },
    "kernelspec": {
      "display_name": "Python 3",
      "name": "python3"
    },
    "language_info": {
      "name": "python"
    }
  },
  "nbformat": 4,
  "nbformat_minor": 0
}
