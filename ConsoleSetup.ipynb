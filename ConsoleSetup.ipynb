{
  "nbformat": 4,
  "nbformat_minor": 0,
  "metadata": {
    "colab": {
      "provenance": [],
      "authorship_tag": "ABX9TyN4P+lLVryiyFKko6Zv3bnC"
    },
    "kernelspec": {
      "name": "python3",
      "display_name": "Python 3"
    },
    "language_info": {
      "name": "python"
    }
  },
  "cells": [
    {
      "cell_type": "code",
      "execution_count": null,
      "metadata": {
        "id": "hoThgF01Kfw5"
      },
      "outputs": [],
      "source": [
        "from google.colab import files\n",
        "files.upload()"
      ]
    },
    {
      "cell_type": "code",
      "source": [
        "#%%capture\n",
        "#!pip install git+https://github.com/joshcarty/google-searchconsole\n",
        "import pandas as pd\n",
        "import numpy as np\n",
        "import matplotlib.pyplot as plt\n",
        "from google.colab import data_table\n",
        "!pip install umap-learn\n",
        "data_table.enable_dataframe_formatter()"
      ],
      "metadata": {
        "id": "gVo7Te_VLFxG"
      },
      "execution_count": null,
      "outputs": []
    },
    {
      "cell_type": "code",
      "source": [
        "import searchconsole\n",
        "account = searchconsole.authenticate(client_config='client_secret_.json',serialize='credentials.json', flow='console')"
      ],
      "metadata": {
        "id": "qF9pqaYWLRj9"
      },
      "execution_count": null,
      "outputs": []
    },
    {
      "cell_type": "code",
      "source": [
        "property_name = input('Insert the name of your website as listed in GSC: ')\n",
        "webproperty=account[str(property_name)]"
      ],
      "metadata": {
        "colab": {
          "base_uri": "https://localhost:8080/"
        },
        "id": "sZUr3o84LjVl",
        "outputId": "35d505b6-52fd-41f0-af5e-991b2b938d3b"
      },
      "execution_count": 164,
      "outputs": [
        {
          "output_type": "stream",
          "name": "stderr",
          "text": [
            "/usr/local/lib/python3.10/dist-packages/ipykernel/ipkernel.py:283: DeprecationWarning: `should_run_async` will not call `transform_cell` automatically in the future. Please pass the result to `transformed_cell` argument and any exception that happen during thetransform in `preprocessing_exc_tuple` in IPython 7.17 and above.\n",
            "  and should_run_async(code)\n"
          ]
        },
        {
          "name": "stdout",
          "output_type": "stream",
          "text": [
            "Insert the name of your website as listed in GSC: https://www.encstore.com/\n"
          ]
        }
      ]
    },
    {
      "cell_type": "code",
      "source": [
        "def extract_gsc_data(webproperty, start, stop, *args):\n",
        " if webproperty is not None:\n",
        "   print(f'Extracting data for {webproperty}')\n",
        "   gsc_data = webproperty.query.range(start, stop).dimension(*args).get()\n",
        "   return gsc_data\n",
        " else:\n",
        "   print('Webproperty not found, please select the correct one')\n",
        "   return None"
      ],
      "metadata": {
        "id": "xZU1c1g9Qhdq",
        "colab": {
          "base_uri": "https://localhost:8080/"
        },
        "outputId": "a92ec15d-7634-4d04-df32-9aa890c7e76d"
      },
      "execution_count": 165,
      "outputs": [
        {
          "output_type": "stream",
          "name": "stderr",
          "text": [
            "/usr/local/lib/python3.10/dist-packages/ipykernel/ipkernel.py:283: DeprecationWarning: `should_run_async` will not call `transform_cell` automatically in the future. Please pass the result to `transformed_cell` argument and any exception that happen during thetransform in `preprocessing_exc_tuple` in IPython 7.17 and above.\n",
            "  and should_run_async(code)\n"
          ]
        }
      ]
    },
    {
      "cell_type": "code",
      "source": [
        "ex = extract_gsc_data(webproperty, '2023-09-01', str(datetime.now().date()), 'query', 'page', 'date')\n",
        "#ex = extract_gsc_data(webproperty, '2023-09-01', '2023-12-23', 'query', 'page', 'date')"
      ],
      "metadata": {
        "colab": {
          "base_uri": "https://localhost:8080/"
        },
        "id": "B_bJ6n1BRErh",
        "outputId": "6566f591-4ad1-4b7d-8737-e6a019dca8de"
      },
      "execution_count": 166,
      "outputs": [
        {
          "output_type": "stream",
          "name": "stderr",
          "text": [
            "/usr/local/lib/python3.10/dist-packages/ipykernel/ipkernel.py:283: DeprecationWarning: `should_run_async` will not call `transform_cell` automatically in the future. Please pass the result to `transformed_cell` argument and any exception that happen during thetransform in `preprocessing_exc_tuple` in IPython 7.17 and above.\n",
            "  and should_run_async(code)\n"
          ]
        },
        {
          "output_type": "stream",
          "name": "stdout",
          "text": [
            "Extracting data for <searchconsole.account.WebProperty(url='https://www.encstore.com/')>\n"
          ]
        }
      ]
    },
    {
      "cell_type": "code",
      "source": [
        "df = pd.DataFrame(data=ex)\n",
        "df.head()"
      ],
      "metadata": {
        "id": "7OLRyTXURNqS"
      },
      "execution_count": null,
      "outputs": []
    },
    {
      "cell_type": "code",
      "source": [
        "from datetime import datetime\n",
        "from google.colab import files\n",
        "today_date = datetime.today().strftime('%Y-%m-%d')\n",
        "filename = f'initialdataset_{today_date}.csv'\n",
        "df.to_csv(filename, index=False)\n",
        "files.download(filename)"
      ],
      "metadata": {
        "id": "ulMGqqCGFXHL"
      },
      "execution_count": null,
      "outputs": []
    },
    {
      "cell_type": "code",
      "source": [
        "domain_name = str(input('Insert brand terms separated by a comma: ')).replace(',', '|')\n",
        "import re\n",
        "domain_name = re.sub(r\"\\s+\", \"\", domain_name)\n",
        "print('Remove all spaces using RegEx:\\n')\n",
        "df['Brand/Non-branded'] = np.where(\n",
        "   df['query'].str.contains(domain_name), 'Brand', 'Non-branded'\n",
        ")"
      ],
      "metadata": {
        "id": "ckSPWPeCSshK"
      },
      "execution_count": null,
      "outputs": []
    },
    {
      "cell_type": "code",
      "source": [
        "brand_count_df = df['Brand/Non-branded'].value_counts().rename_axis('category').to_frame('counts')\n",
        "brand_count_df['Percentage'] = brand_count_df['counts']/sum(brand_count_df['counts'])\n",
        "pd.options.display.float_format = '{:.2%}'.format\n",
        "brand_count_df"
      ],
      "metadata": {
        "id": "OQp7NUzvTfWq"
      },
      "execution_count": null,
      "outputs": []
    },
    {
      "cell_type": "code",
      "source": [
        "df.fillna(0, inplace = True)"
      ],
      "metadata": {
        "id": "N-Pi9duPTyMo"
      },
      "execution_count": null,
      "outputs": []
    },
    {
      "cell_type": "code",
      "source": [
        "df['position'] = df['position'].round(0).astype('int64')"
      ],
      "metadata": {
        "id": "sZ3TBpbxUCNv"
      },
      "execution_count": null,
      "outputs": []
    },
    {
      "cell_type": "code",
      "source": [
        "df['date'] = pd.to_datetime(df['date'])\n",
        "df['month'] = df['date'].dt.month\n",
        "df['year'] = df['date'].dt.year"
      ],
      "metadata": {
        "id": "n3m16irrUEEo"
      },
      "execution_count": null,
      "outputs": []
    },
    {
      "cell_type": "code",
      "source": [
        "ranking_queries = df.pivot_table(index=['position'], values=['query'], aggfunc=['count'])\n",
        "ranking_queries.sort_values(by=['position']).head(10)"
      ],
      "metadata": {
        "id": "xbKY-T8pUPi4"
      },
      "execution_count": null,
      "outputs": []
    },
    {
      "cell_type": "code",
      "source": [
        "pd.options.display.float_format = '{:.2%}'.format\n",
        "query_analysis = df.pivot_table(index=['position'], values=['ctr'], aggfunc=['mean'])\n",
        "query_analysis.sort_values(by=['position'], ascending=True).head(10)\n",
        "ax = query_analysis.head(10).plot(kind='bar')\n",
        "ax.set_xlabel('Avg. Position')\n",
        "ax.set_ylabel('CTR')\n",
        "ax.set_title('CTR by avg. position')\n",
        "ax.grid('on')\n",
        "ax.get_legend().remove()\n",
        "plt.xticks(rotation=0)\n",
        "plot1 = f'CTR_AVGPOSITION_{today_date}.png'\n",
        "plt.savefig(plot1)\n",
        "files.download(plot1)\n",
        "plt.show()"
      ],
      "metadata": {
        "id": "emoNv8j8UIXB"
      },
      "execution_count": null,
      "outputs": []
    },
    {
      "cell_type": "code",
      "source": [
        "filename1 = f'ctr_avgposition_{today_date}.xlsx'\n",
        "query_analysis.to_excel(filename1,index=false)\n",
        "files.download(filename1)"
      ],
      "metadata": {
        "id": "nFN_9IZAYN18"
      },
      "execution_count": null,
      "outputs": []
    },
    {
      "cell_type": "code",
      "source": [
        "clicks_sum = df.groupby('date')['clicks'].sum()"
      ],
      "metadata": {
        "id": "deiCm8o8UvFR"
      },
      "execution_count": null,
      "outputs": []
    },
    {
      "cell_type": "code",
      "source": [
        "%config InlineBackend.figure_format = 'retina'\n",
        "from matplotlib.pyplot import figure\n",
        "figure(figsize=(8, 6), dpi=80)\n",
        "ax = clicks_sum.plot(color='blue')\n",
        "ax.grid('on')\n",
        "ax.set_ylabel('Sum of clicks')\n",
        "ax.set_xlabel('Month')\n",
        "ax.set_title('How clicks varied on a monthly basis')\n",
        "xlab = ax.xaxis.get_label()\n",
        "ylab = ax.yaxis.get_label()\n",
        "xlab.set_style('italic')\n",
        "xlab.set_size(10)\n",
        "ylab.set_style('italic')\n",
        "ylab.set_size(10)\n",
        "ttl = ax.title\n",
        "ttl.set_weight('bold')\n",
        "ax.spines['right'].set_color((.8,.8,.8))\n",
        "ax.spines['top'].set_color((.8,.8,.8))\n",
        "ax.yaxis.set_label_coords(-.15, .50)\n",
        "ax.fill_between(clicks_sum.index, clicks_sum.values, facecolor='blue')"
      ],
      "metadata": {
        "id": "vlN033aKU_0h"
      },
      "execution_count": null,
      "outputs": []
    },
    {
      "cell_type": "code",
      "source": [
        "filename2 = f'clicks_month_{today_date}.xlsx'\n",
        "clicks_sum.to_excel(filename2,index=false)\n",
        "files.download(filename2)"
      ],
      "metadata": {
        "id": "tzsatEMMW4rx"
      },
      "execution_count": null,
      "outputs": []
    },
    {
      "cell_type": "code",
      "source": [
        "import seaborn as sns\n",
        "sns.set_theme()\n",
        "\n",
        "df_new = df.loc[(df['position'] <= 10) & (df['year'] != 2024),:]\n",
        "\n",
        "df_heat = df_new.pivot_table(index = \"position\", columns = \"month\", values = \"query\", aggfunc='count')\n",
        "\n",
        "f, ax = plt.subplots(figsize=(20, 12))\n",
        "\n",
        "unique_months = sorted(df['date'].dt.strftime('%B').unique(), key=lambda x: datetime.strptime(x, '%B'))\n",
        "\n",
        "x_axis_labels = unique_months\n",
        "\n",
        "sns.heatmap(df_heat, annot=True, linewidths=.5, ax=ax, fmt='g', cmap = sns.cm.rocket_r, xticklabels=x_axis_labels)\n",
        "ax.set(xlabel = 'Month', ylabel='Position', title = 'How query count per position changes with time')\n",
        "plt.yticks(rotation=0)"
      ],
      "metadata": {
        "id": "fYhdp32GVGAw"
      },
      "execution_count": null,
      "outputs": []
    },
    {
      "cell_type": "code",
      "source": [
        "filename3 = f'heatmap_data_{today_date}.xlsx'\n",
        "df_heat.to_excel(filename3,index=false)\n",
        "files.download(filename3)"
      ],
      "metadata": {
        "id": "tHgF98o5dPuq"
      },
      "execution_count": null,
      "outputs": []
    },
    {
      "cell_type": "code",
      "source": [
        "import nltk\n",
        "\n",
        "nltk.download('stopwords')\n",
        "from nltk.corpus import stopwords\n",
        "stoplist = stopwords.words('english')\n",
        "\n",
        "from sklearn.feature_extraction.text import CountVectorizer\n",
        "c_vec = CountVectorizer(stop_words=stoplist, ngram_range=(2,3))\n",
        "ngrams = c_vec.fit_transform(df['query'])\n",
        "count_values = ngrams.toarray().sum(axis=0)\n",
        "vocab = c_vec.vocabulary_\n",
        "df_ngram = pd.DataFrame(sorted([(count_values[i],k) for k,i in vocab.items()], reverse=True)\n",
        "           ).rename(columns={0: 'frequency', 1:'bigram/trigram'})\n",
        "\n",
        "df_ngram.head(20).style.background_gradient()"
      ],
      "metadata": {
        "id": "lJfTyw98VN4M"
      },
      "execution_count": null,
      "outputs": []
    },
    {
      "cell_type": "code",
      "source": [
        "filename4 = f'ngram_data_{today_date}.xlsx'\n",
        "df_ngram.to_excel(filename4,index=false)\n",
        "files.download(filename4)"
      ],
      "metadata": {
        "id": "6lzFthsIhNoc"
      },
      "execution_count": null,
      "outputs": []
    },
    {
      "cell_type": "code",
      "source": [
        "top_impressions = df[df['impressions'] >= df['impressions'].quantile(0.8)]\n",
        "(top_impressions[top_impressions['ctr'] <= top_impressions['ctr'].quantile(0.2)].sort_values('impressions', ascending = False))"
      ],
      "metadata": {
        "id": "frRqz2B1Z5Mu"
      },
      "execution_count": null,
      "outputs": []
    },
    {
      "cell_type": "code",
      "source": [
        "filename5 = f'top_impressions_data{today_date}.xlsx'\n",
        "top_impressions.to_excel(filename5,index=False)\n",
        "files.download(filename5)"
      ],
      "metadata": {
        "id": "QmrCMyFja901"
      },
      "execution_count": null,
      "outputs": []
    },
    {
      "cell_type": "code",
      "source": [
        "!pip install mlxtend\n",
        "\n",
        "from mlxtend.frequent_patterns import fpgrowth\n",
        "from mlxtend.preprocessing import TransactionEncoder\n",
        "from sklearn.preprocessing import LabelEncoder"
      ],
      "metadata": {
        "id": "4-n_rbURK3PO"
      },
      "execution_count": null,
      "outputs": []
    },
    {
      "cell_type": "code",
      "source": [
        "df['date'] = pd.to_datetime(df['date'])\n"
      ],
      "metadata": {
        "id": "XYPYNcXI3CHJ"
      },
      "execution_count": null,
      "outputs": []
    },
    {
      "cell_type": "code",
      "source": [
        "queries = df['query'].apply(lambda x: re.split(r'[“?^”<#(/\\]=\\-):[@÷\\'&\",’$.•⁄_+ ]', x))\n",
        "\n",
        "te = TransactionEncoder()\n",
        "te_ary = te.fit(queries).transform(queries)\n",
        "df_encoded = pd.DataFrame(te_ary, columns=te.columns_)\n",
        "\n",
        "frequent_itemsets = fpgrowth(df_encoded, min_support=0.01, use_colnames=True)\n",
        "\n",
        "print(frequent_itemsets)"
      ],
      "metadata": {
        "id": "O0Svk8z23EE3"
      },
      "execution_count": null,
      "outputs": []
    },
    {
      "cell_type": "code",
      "source": [
        "from mlxtend.frequent_patterns import association_rules\n",
        "\n",
        "rules = association_rules(frequent_itemsets, metric=\"confidence\", min_threshold=0.1)\n",
        "\n",
        "#print(rules)\n",
        "filenamerules = f'associationrule{today_date}.xlsx'\n",
        "rules.to_excel(filenamerules, index=False)\n",
        "files.download(filenamerules)"
      ],
      "metadata": {
        "id": "9bqaKJYK_Pm7"
      },
      "execution_count": null,
      "outputs": []
    }
  ]
}